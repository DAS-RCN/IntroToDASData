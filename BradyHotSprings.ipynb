{
  "nbformat": 4,
  "nbformat_minor": 0,
  "metadata": {
    "colab": {
      "name": "BradyHotSprings.ipynb",
      "provenance": [],
      "collapsed_sections": [],
      "authorship_tag": "ABX9TyMCMhBSpFwvT2KvvWGUNAx+",
      "include_colab_link": true
    },
    "kernelspec": {
      "name": "python3",
      "display_name": "Python 3"
    }
  },
  "cells": [
    {
      "cell_type": "markdown",
      "metadata": {
        "id": "view-in-github",
        "colab_type": "text"
      },
      "source": [
        "<a href=\"https://colab.research.google.com/github/eileenrmartin/IntroToDASData/blob/master/BradyHotSprings.ipynb\" target=\"_parent\"><img src=\"https://colab.research.google.com/assets/colab-badge.svg\" alt=\"Open In Colab\"/></a>"
      ]
    },
    {
      "cell_type": "markdown",
      "metadata": {
        "id": "g3EbbVLwIJ74",
        "colab_type": "text"
      },
      "source": [
        "# Example with Brady Hot Springs Vibroseis\n",
        "\n"
      ]
    },
    {
      "cell_type": "markdown",
      "metadata": {
        "id": "oq4wML6FJUBa",
        "colab_type": "text"
      },
      "source": [
        "The Python packages we'll use are:\n",
        "\n",
        "*   pandas, already available in Colab\n",
        "*   matplotlib.pyplot, already available in Colab\n",
        "*   obspy, needs to be installed\n",
        "* maybe some others**** like scipy.fftpack or numpy?*\n",
        "\n",
        "To run a bash (command-line) command in a Jupyter notebook on Colab, use an ! before the command. Below is the command to install obspy. \n",
        "\n"
      ]
    },
    {
      "cell_type": "code",
      "metadata": {
        "id": "5pkYNYW5IFPn",
        "colab_type": "code",
        "outputId": "3745abf6-c82c-4552-f96a-9404a797efdb",
        "colab": {
          "base_uri": "https://localhost:8080/",
          "height": 507
        }
      },
      "source": [
        "!pip install obspy"
      ],
      "execution_count": 1,
      "outputs": [
        {
          "output_type": "stream",
          "text": [
            "Collecting obspy\n",
            "\u001b[?25l  Downloading https://files.pythonhosted.org/packages/88/86/6f1aed4b46d8f38df50fb8f7b5bc18ae453ad80bcdcf9ebbcb5a53f37298/obspy-1.2.1.zip (24.7MB)\n",
            "\u001b[K     |████████████████████████████████| 24.7MB 164kB/s \n",
            "\u001b[?25hRequirement already satisfied: future>=0.12.4 in /usr/local/lib/python3.6/dist-packages (from obspy) (0.16.0)\n",
            "Requirement already satisfied: numpy>=1.6.1 in /usr/local/lib/python3.6/dist-packages (from obspy) (1.18.3)\n",
            "Requirement already satisfied: scipy>=0.9.0 in /usr/local/lib/python3.6/dist-packages (from obspy) (1.4.1)\n",
            "Requirement already satisfied: matplotlib>=1.1.0 in /usr/local/lib/python3.6/dist-packages (from obspy) (3.2.1)\n",
            "Requirement already satisfied: lxml in /usr/local/lib/python3.6/dist-packages (from obspy) (4.2.6)\n",
            "Requirement already satisfied: setuptools in /usr/local/lib/python3.6/dist-packages (from obspy) (46.1.3)\n",
            "Requirement already satisfied: sqlalchemy in /usr/local/lib/python3.6/dist-packages (from obspy) (1.3.16)\n",
            "Requirement already satisfied: decorator in /usr/local/lib/python3.6/dist-packages (from obspy) (4.4.2)\n",
            "Requirement already satisfied: requests in /usr/local/lib/python3.6/dist-packages (from obspy) (2.21.0)\n",
            "Requirement already satisfied: cycler>=0.10 in /usr/local/lib/python3.6/dist-packages (from matplotlib>=1.1.0->obspy) (0.10.0)\n",
            "Requirement already satisfied: kiwisolver>=1.0.1 in /usr/local/lib/python3.6/dist-packages (from matplotlib>=1.1.0->obspy) (1.2.0)\n",
            "Requirement already satisfied: pyparsing!=2.0.4,!=2.1.2,!=2.1.6,>=2.0.1 in /usr/local/lib/python3.6/dist-packages (from matplotlib>=1.1.0->obspy) (2.4.7)\n",
            "Requirement already satisfied: python-dateutil>=2.1 in /usr/local/lib/python3.6/dist-packages (from matplotlib>=1.1.0->obspy) (2.8.1)\n",
            "Requirement already satisfied: chardet<3.1.0,>=3.0.2 in /usr/local/lib/python3.6/dist-packages (from requests->obspy) (3.0.4)\n",
            "Requirement already satisfied: certifi>=2017.4.17 in /usr/local/lib/python3.6/dist-packages (from requests->obspy) (2020.4.5.1)\n",
            "Requirement already satisfied: idna<2.9,>=2.5 in /usr/local/lib/python3.6/dist-packages (from requests->obspy) (2.8)\n",
            "Requirement already satisfied: urllib3<1.25,>=1.21.1 in /usr/local/lib/python3.6/dist-packages (from requests->obspy) (1.24.3)\n",
            "Requirement already satisfied: six in /usr/local/lib/python3.6/dist-packages (from cycler>=0.10->matplotlib>=1.1.0->obspy) (1.12.0)\n",
            "Building wheels for collected packages: obspy\n",
            "  Building wheel for obspy (setup.py) ... \u001b[?25l\u001b[?25hdone\n",
            "  Created wheel for obspy: filename=obspy-1.2.1-cp36-cp36m-linux_x86_64.whl size=21661682 sha256=5ac9dc1d8573c8fc3587872c764a36d8dd216f12a413e9b20dc7080ea6f2bf84\n",
            "  Stored in directory: /root/.cache/pip/wheels/99/1b/9d/ada1c7af86c92811628dc58568bb27f3ffb46ee157e1f1e8db\n",
            "Successfully built obspy\n",
            "Installing collected packages: obspy\n",
            "Successfully installed obspy-1.2.1\n"
          ],
          "name": "stdout"
        }
      ]
    },
    {
      "cell_type": "markdown",
      "metadata": {
        "id": "DWO7IR99KBxW",
        "colab_type": "text"
      },
      "source": [
        "All packages need to be imported before they can be used. Now that we've installed Obspy, let's load all relevant packages."
      ]
    },
    {
      "cell_type": "code",
      "metadata": {
        "id": "p4L9IsZ_KA5c",
        "colab_type": "code",
        "colab": {}
      },
      "source": [
        "import pandas as pd\n",
        "import numpy as np\n",
        "import scipy.fftpack as ft\n",
        "import matplotlib.pyplot as plt\n",
        "import obspy\n",
        "import csv"
      ],
      "execution_count": 0,
      "outputs": []
    },
    {
      "cell_type": "code",
      "metadata": {
        "id": "6MRFydyuKVml",
        "colab_type": "code",
        "colab": {}
      },
      "source": [
        ""
      ],
      "execution_count": 0,
      "outputs": []
    },
    {
      "cell_type": "markdown",
      "metadata": {
        "id": "FzYNoNtIL4gn",
        "colab_type": "text"
      },
      "source": [
        "...some other stuff goes here..."
      ]
    },
    {
      "cell_type": "markdown",
      "metadata": {
        "id": "0Rbir7lFMMbY",
        "colab_type": "text"
      },
      "source": [
        "# Reading Array Geometry"
      ]
    },
    {
      "cell_type": "markdown",
      "metadata": {
        "id": "1BdDeUSWMcqd",
        "colab_type": "text"
      },
      "source": [
        "Grab csv (comma separated value) data from Geothermal Data Repository. File is at url: https://gdr.openei.org/files/829/Surface_DAS_DTS_UTM_coordinates.csv and more info is at https://openei.org/doe-opendata/dataset/brady-s-geothermal-field-das-and-dts-surface-and-borehole-array-metadata/resource/f0000003-58cc-4372-a567-000000000829"
      ]
    },
    {
      "cell_type": "code",
      "metadata": {
        "id": "9vysLszqMTsA",
        "colab_type": "code",
        "outputId": "4bfc8f5b-a51a-4913-dfe1-a930f9073ce7",
        "colab": {
          "base_uri": "https://localhost:8080/",
          "height": 202
        }
      },
      "source": [
        "!wget https://gdr.openei.org/files/829/Surface_DAS_DTS_UTM_coordinates.csv"
      ],
      "execution_count": 3,
      "outputs": [
        {
          "output_type": "stream",
          "text": [
            "--2020-04-29 12:58:14--  https://gdr.openei.org/files/829/Surface_DAS_DTS_UTM_coordinates.csv\n",
            "Resolving gdr.openei.org (gdr.openei.org)... 52.32.102.211, 52.24.243.44, 54.148.193.62\n",
            "Connecting to gdr.openei.org (gdr.openei.org)|52.32.102.211|:443... connected.\n",
            "HTTP request sent, awaiting response... 200 OK\n",
            "Length: 307372 (300K) [application/octet-stream]\n",
            "Saving to: ‘Surface_DAS_DTS_UTM_coordinates.csv’\n",
            "\n",
            "Surface_DAS_DTS_UTM 100%[===================>] 300.17K  1.16MB/s    in 0.3s    \n",
            "\n",
            "2020-04-29 12:58:14 (1.16 MB/s) - ‘Surface_DAS_DTS_UTM_coordinates.csv’ saved [307372/307372]\n",
            "\n"
          ],
          "name": "stdout"
        }
      ]
    },
    {
      "cell_type": "markdown",
      "metadata": {
        "id": "mTHJDcnjGabF",
        "colab_type": "text"
      },
      "source": [
        "Read the geometry data:"
      ]
    },
    {
      "cell_type": "code",
      "metadata": {
        "id": "Y8o63bqkGVwP",
        "colab_type": "code",
        "colab": {}
      },
      "source": [
        "geomData = 'Surface_DAS_DTS_UTM_coordinates.csv'\n",
        "\n",
        "srcX = 328552.49 # ****don't hard code****\n",
        "srcY = 4408006.65 # ****don't hard code***\n",
        "\n",
        "minRow = 53 # ***don't hard code**\n",
        "maxRow = 8673  # ***dont't hard code***\n",
        "with open(geomData) as myFile:\n",
        "        myReader = csv.reader(myFile, delimiter=',')\n",
        "        nRows = maxRow - minRow + 1\n",
        "        ch = np.zeros(nRows,dtype=np.int)\n",
        "        x = np.zeros(nRows,dtype=np.float32)\n",
        "        y = np.zeros(nRows,dtype=np.float32)\n",
        "        myFile.seek(0)\n",
        "        rowCtr = 1\n",
        "        for row in myReader:\n",
        "                if((rowCtr >= minRow) and (rowCtr <= maxRow)):\n",
        "                        ch[rowCtr-minRow] = int(row[0])\n",
        "                        x[rowCtr-minRow] = float(row[1])\n",
        "                        y[rowCtr-minRow] = float(row[2])\n",
        "                rowCtr = rowCtr + 1"
      ],
      "execution_count": 0,
      "outputs": []
    },
    {
      "cell_type": "markdown",
      "metadata": {
        "id": "8bvc1fzQGu-K",
        "colab_type": "text"
      },
      "source": [
        "Plot the geometry data checking distances along one subset: \n",
        "\n"
      ]
    },
    {
      "cell_type": "code",
      "metadata": {
        "id": "ujh_zq_mGk_4",
        "colab_type": "code",
        "colab": {
          "base_uri": "https://localhost:8080/",
          "height": 296
        },
        "outputId": "80102928-d5b6-4104-8ba1-36b83917a220"
      },
      "source": [
        "distances = np.sqrt((x-srcX)**2 + (y-srcY)**2)\n",
        "print('distances (m)')\n",
        "import matplotlib.pyplot as plt\n",
        "plt.plot(distances)\n",
        "plt.xlabel(\"channel index\")\n",
        "plt.ylabel(\"distance from reference point (m)\")\n",
        "plt.show()"
      ],
      "execution_count": 12,
      "outputs": [
        {
          "output_type": "stream",
          "text": [
            "distances (m)\n"
          ],
          "name": "stdout"
        },
        {
          "output_type": "display_data",
          "data": {
            "image/png": "[encoded data removed]",
            "text/plain": [
              "<Figure size 432x288 with 1 Axes>"
            ]
          },
          "metadata": {
            "tags": [],
            "needs_background": "light"
          }
        }
      ]
    },
    {
      "cell_type": "code",
      "metadata": {
        "id": "BiZAn12kHZUY",
        "colab_type": "code",
        "colab": {
          "base_uri": "https://localhost:8080/",
          "height": 329
        },
        "outputId": "3216ae4f-399b-4240-a0fb-c11521bd9148"
      },
      "source": [
        "maxCh = np.max(ch)\n",
        "minCh = np.min(ch)\n",
        "print(maxCh)\n",
        "print(minCh)\n",
        "# location of source from https://gdr.openei.org/submissions/849\n",
        "# converted to UTM by https://www.latlong.net/lat-long-utm.html\n",
        "plt.scatter(x,y,c=ch,linewidth=0,s=2,cmap=plt.get_cmap('jet'))\n",
        "plt.colorbar()\n",
        "plt.xlabel('x UTM (m)')\n",
        "plt.ylabel('y UTM (m)')\n",
        "plt.title('array geometry')\n",
        "plt.scatter(srcX,srcY,c='k',linewidth=0)\n",
        "plt.show()"
      ],
      "execution_count": 14,
      "outputs": [
        {
          "output_type": "stream",
          "text": [
            "8650\n",
            "30\n"
          ],
          "name": "stdout"
        },
        {
          "output_type": "display_data",
          "data": {
            "image/png": "[encoded data removed]",
            "text/plain": [
              "<Figure size 432x288 with 2 Axes>"
            ]
          },
          "metadata": {
            "tags": [],
            "needs_background": "light"
          }
        }
      ]
    }
  ]
}